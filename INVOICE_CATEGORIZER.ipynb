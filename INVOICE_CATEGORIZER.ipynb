{
  "cells": [
    {
      "cell_type": "markdown",
      "metadata": {
        "colab_type": "text",
        "id": "view-in-github"
      },
      "source": [
        "<a href=\"https://colab.research.google.com/github/Richik06/Richik06/blob/main/INVOICE_CATEGORIZER.ipynb\" target=\"_parent\"><img src=\"https://colab.research.google.com/assets/colab-badge.svg\" alt=\"Open In Colab\"/></a>"
      ]
    },
    {
      "cell_type": "code",
      "execution_count": 1,
      "metadata": {},
      "outputs": [],
      "source": [
        "import pandas as pd\n",
        "from sklearn.feature_extraction.text import TfidfVectorizer\n",
        "from sklearn.naive_bayes import MultinomialNB\n",
        "import joblib"
      ]
    },
    {
      "cell_type": "code",
      "execution_count": 13,
      "metadata": {},
      "outputs": [
        {
          "name": "stdout",
          "output_type": "stream",
          "text": [
            "                                                text       category\n",
            "0  Zomato order #3452, Tandoori momos and cold dr...           Food\n",
            "1                 Uber ride from work to home $12.50         Travel\n",
            "2             BSNL Broadband monthly bill - Aug ₹750      Utilities\n",
            "3  PVR Cinemas: ticket for Oppenheimer, 2 adults ...  Entertainment\n",
            "4  Apollo Pharmacy: Paracetamol & Cough Syrup $15.75         Health\n",
            "Index(['text', 'category'], dtype='object')\n"
          ]
        }
      ],
      "source": [
        "import pandas as pd\n",
        "\n",
        "# Load the cleaned dataset\n",
        "df = pd.read_csv(\"cleaned_final_dataset.csv\")\n",
        "\n",
        "# Rename columns\n",
        "df.columns = [\"text\", \"category\"]\n",
        "\n",
        "# Optional: check\n",
        "print(df.head())\n",
        "print(df.columns)"
      ]
    },
    {
      "cell_type": "code",
      "execution_count": 14,
      "metadata": {},
      "outputs": [
        {
          "name": "stdout",
          "output_type": "stream",
          "text": [
            "✅ New model trained and saved with large dataset\n"
          ]
        }
      ],
      "source": [
        "# ✅ Step 2: Clean if needed (optional, only if required)\n",
        "df = df.dropna(subset=[\"text\", \"category\"])  # in case there are NaNs\n",
        "\n",
        "# ✅ Step 3: Vectorize and train\n",
        "vectorizer = TfidfVectorizer()\n",
        "X = vectorizer.fit_transform(df['text'])  # Features\n",
        "y = df['category']                        # Labels\n",
        "\n",
        "model = MultinomialNB()\n",
        "model.fit(X, y)\n",
        "\n",
        "# ✅ Step 4: Save model and vectorizer\n",
        "joblib.dump(model, \"model.pkl\")\n",
        "joblib.dump(vectorizer, \"vectorizer.pkl\")\n",
        "\n",
        "print(\"✅ New model trained and saved with large dataset\")"
      ]
    },
    {
      "cell_type": "code",
      "execution_count": 15,
      "metadata": {
        "colab": {
          "base_uri": "https://localhost:8080/"
        },
        "id": "R9B_A4-qdQYy",
        "outputId": "f61e659a-021c-4c0b-9d64-8a5cb0c020db"
      },
      "outputs": [
        {
          "name": "stderr",
          "output_type": "stream",
          "text": [
            "2025-08-04 21:02:39.651 WARNING streamlit.runtime.scriptrunner_utils.script_run_context: Thread 'MainThread': missing ScriptRunContext! This warning can be ignored when running in bare mode.\n",
            "2025-08-04 21:02:40.038 \n",
            "  \u001b[33m\u001b[1mWarning:\u001b[0m to view this Streamlit app on a browser, run it with the following\n",
            "  command:\n",
            "\n",
            "    streamlit run c:\\Users\\hnegi\\INVOICE_CATEGORIZER\\venv\\lib\\site-packages\\ipykernel_launcher.py [ARGUMENTS]\n",
            "2025-08-04 21:02:40.039 Thread 'MainThread': missing ScriptRunContext! This warning can be ignored when running in bare mode.\n",
            "2025-08-04 21:02:40.041 Thread 'MainThread': missing ScriptRunContext! This warning can be ignored when running in bare mode.\n",
            "2025-08-04 21:02:40.042 Thread 'MainThread': missing ScriptRunContext! This warning can be ignored when running in bare mode.\n",
            "2025-08-04 21:02:40.097 Thread 'MainThread': missing ScriptRunContext! This warning can be ignored when running in bare mode.\n",
            "2025-08-04 21:02:40.097 Thread 'MainThread': missing ScriptRunContext! This warning can be ignored when running in bare mode.\n",
            "2025-08-04 21:02:40.099 Thread 'MainThread': missing ScriptRunContext! This warning can be ignored when running in bare mode.\n",
            "2025-08-04 21:02:40.101 Thread 'MainThread': missing ScriptRunContext! This warning can be ignored when running in bare mode.\n",
            "2025-08-04 21:02:40.103 Thread 'MainThread': missing ScriptRunContext! This warning can be ignored when running in bare mode.\n",
            "2025-08-04 21:02:40.104 Thread 'MainThread': missing ScriptRunContext! This warning can be ignored when running in bare mode.\n",
            "2025-08-04 21:02:40.106 Thread 'MainThread': missing ScriptRunContext! This warning can be ignored when running in bare mode.\n",
            "2025-08-04 21:02:40.106 Thread 'MainThread': missing ScriptRunContext! This warning can be ignored when running in bare mode.\n",
            "2025-08-04 21:02:40.109 Thread 'MainThread': missing ScriptRunContext! This warning can be ignored when running in bare mode.\n",
            "2025-08-04 21:02:40.111 Thread 'MainThread': missing ScriptRunContext! This warning can be ignored when running in bare mode.\n",
            "2025-08-04 21:02:40.112 Thread 'MainThread': missing ScriptRunContext! This warning can be ignored when running in bare mode.\n",
            "2025-08-04 21:02:40.114 Thread 'MainThread': missing ScriptRunContext! This warning can be ignored when running in bare mode.\n",
            "2025-08-04 21:02:40.115 Thread 'MainThread': missing ScriptRunContext! This warning can be ignored when running in bare mode.\n",
            "2025-08-04 21:02:40.116 Thread 'MainThread': missing ScriptRunContext! This warning can be ignored when running in bare mode.\n",
            "2025-08-04 21:02:40.117 Thread 'MainThread': missing ScriptRunContext! This warning can be ignored when running in bare mode.\n"
          ]
        }
      ],
      "source": [
        "import streamlit as st\n",
        "import pandas as pd\n",
        "import easyocr\n",
        "import joblib\n",
        "import tempfile\n",
        "import os\n",
        "from pdf2image import convert_from_path\n",
        "from PIL import Image\n",
        "\n",
        "# ---------- Load model and vectorizer ----------\n",
        "@st.cache_resource\n",
        "def load_model():\n",
        "    model = joblib.load(\"model.pkl\")\n",
        "    vectorizer = joblib.load(\"vectorizer.pkl\")\n",
        "    return model, vectorizer\n",
        "\n",
        "model, vectorizer = load_model()\n",
        "\n",
        "# ---------- OCR Function ----------\n",
        "def run_ocr(file_path):\n",
        "    reader = easyocr.Reader(['en'])\n",
        "    text_lines = reader.readtext(file_path, detail=0)\n",
        "    return text_lines\n",
        "\n",
        "# ---------- File Upload ----------\n",
        "st.title(\"🧾 Invoice/Bill Digitizer & Categorizer\")\n",
        "st.write(\"Upload your invoice image or PDF to auto-categorize the line items into Food, Travel, Utilities, etc.\")\n",
        "\n",
        "uploaded_file = st.file_uploader(\"Upload Invoice\", type=[\"jpg\", \"jpeg\", \"png\", \"pdf\"])\n",
        "\n",
        "if uploaded_file:\n",
        "    with tempfile.NamedTemporaryFile(delete=False) as tmp_file:\n",
        "        tmp_file.write(uploaded_file.read())\n",
        "        temp_path = tmp_file.name\n",
        "\n",
        "    # Convert PDF to image\n",
        "    if uploaded_file.name.lower().endswith(\".pdf\"):\n",
        "        pages = convert_from_path(temp_path)\n",
        "        image_path = temp_path + \".jpg\"\n",
        "        pages[0].save(image_path, 'JPEG')\n",
        "    else:\n",
        "        image_path = temp_path\n",
        "\n",
        "    # ---------- OCR + Prediction ----------\n",
        "    st.info(\"🔍 Running OCR on your invoice...\")\n",
        "    ocr_lines = run_ocr(image_path)\n",
        "\n",
        "    if len(ocr_lines) == 0:\n",
        "        st.warning(\"No text found in invoice.\")\n",
        "    else:\n",
        "        st.success(\"✅ Text successfully extracted from invoice.\")\n",
        "\n",
        "        # Predict categories\n",
        "        X_test = vectorizer.transform(ocr_lines)\n",
        "        preds = model.predict(X_test)\n",
        "\n",
        "        # Combine results\n",
        "        df = pd.DataFrame({\"Line Item\": ocr_lines, \"Predicted Category\": preds})\n",
        "        st.dataframe(df)\n",
        "\n",
        "        # Downloadable CSV\n",
        "        csv = df.to_csv(index=False).encode('utf-8')\n",
        "        st.download_button(\n",
        "            label=\"📥 Download Categorized Data as CSV\",\n",
        "            data=csv,\n",
        "            file_name='categorized_invoice.csv',\n",
        "            mime='text/csv',\n",
        "        )\n"
      ]
    },
    {
      "cell_type": "code",
      "execution_count": null,
      "metadata": {},
      "outputs": [],
      "source": []
    },
    {
      "cell_type": "code",
      "execution_count": 16,
      "metadata": {
        "colab": {
          "base_uri": "https://localhost:8080/"
        },
        "id": "snUWq3m3gEeh",
        "outputId": "21844d43-6731-421a-e6ed-6f54f35406b8"
      },
      "outputs": [
        {
          "data": {
            "text/plain": [
              "['.git',\n",
              " 'cleaned_final_dataset.csv',\n",
              " 'INVOICE_CATEGORIZER.ipynb',\n",
              " 'INVOICE_CATEGORIZER.py',\n",
              " 'model.pkl',\n",
              " 'README.md',\n",
              " 'requirements.txt',\n",
              " 'vectorizer.pkl',\n",
              " 'venv']"
            ]
          },
          "execution_count": 16,
          "metadata": {},
          "output_type": "execute_result"
        }
      ],
      "source": [
        "import os\n",
        "\n",
        "# List the saved files\n",
        "os.listdir()\n"
      ]
    },
    {
      "cell_type": "code",
      "execution_count": null,
      "metadata": {
        "colab": {
          "base_uri": "https://localhost:8080/"
        },
        "id": "GJZ0Y_lCgycy",
        "outputId": "7b95be58-9195-4705-88c8-79974fa3c12e"
      },
      "outputs": [
        {
          "name": "stdout",
          "output_type": "stream",
          "text": [
            "✅ Model and vectorizer saved!\n",
            "📁 Files in directory: ['.git', 'cleaned_final_dataset.csv', 'INVOICE_CATEGORIZER.ipynb', 'INVOICE_CATEGORIZER.py', 'model.pkl', 'README.md', 'requirements.txt', 'vectorizer.pkl', 'venv']\n"
          ]
        },
        {
          "ename": "",
          "evalue": "",
          "output_type": "error",
          "traceback": [
            "\u001b[1;31mThe Kernel crashed while executing code in the current cell or a previous cell. \n",
            "\u001b[1;31mPlease review the code in the cell(s) to identify a possible cause of the failure. \n",
            "\u001b[1;31mClick <a href='https://aka.ms/vscodeJupyterKernelCrash'>here</a> for more info. \n",
            "\u001b[1;31mView Jupyter <a href='command:jupyter.viewOutput'>log</a> for further details."
          ]
        }
      ],
      "source": [
        "print(\"✅ Model and vectorizer saved!\")\n",
        "print(\"📁 Files in directory:\", os.listdir())\n"
      ]
    }
  ],
  "metadata": {
    "colab": {
      "authorship_tag": "ABX9TyOjjU1dc4IMVsYZzE0iyezR",
      "include_colab_link": true,
      "provenance": []
    },
    "kernelspec": {
      "display_name": "venv",
      "language": "python",
      "name": "python3"
    },
    "language_info": {
      "codemirror_mode": {
        "name": "ipython",
        "version": 3
      },
      "file_extension": ".py",
      "mimetype": "text/x-python",
      "name": "python",
      "nbconvert_exporter": "python",
      "pygments_lexer": "ipython3",
      "version": "3.10.11"
    }
  },
  "nbformat": 4,
  "nbformat_minor": 0
}
